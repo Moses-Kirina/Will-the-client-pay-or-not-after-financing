{
 "cells": [
  {
   "cell_type": "code",
   "execution_count": 2,
   "id": "1bef3e17",
   "metadata": {},
   "outputs": [],
   "source": [
    "import pandas as pd\n",
    "import numpy as np\n",
    "import matplotlib.pyplot as plt\n",
    "import seaborn as sns\n",
    "import warnings\n",
    "\n",
    "warnings.simplefilter(action='ignore', category=FutureWarning)"
   ]
  },
  {
   "cell_type": "code",
   "execution_count": 3,
   "id": "9cc0a8b2",
   "metadata": {},
   "outputs": [
    {
     "data": {
      "text/html": [
       "<div>\n",
       "<style scoped>\n",
       "    .dataframe tbody tr th:only-of-type {\n",
       "        vertical-align: middle;\n",
       "    }\n",
       "\n",
       "    .dataframe tbody tr th {\n",
       "        vertical-align: top;\n",
       "    }\n",
       "\n",
       "    .dataframe thead th {\n",
       "        text-align: right;\n",
       "    }\n",
       "</style>\n",
       "<table border=\"1\" class=\"dataframe\">\n",
       "  <thead>\n",
       "    <tr style=\"text-align: right;\">\n",
       "      <th></th>\n",
       "      <th>person_age</th>\n",
       "      <th>person_income</th>\n",
       "      <th>person_home_ownership</th>\n",
       "      <th>person_emp_length</th>\n",
       "      <th>loan_intent</th>\n",
       "      <th>loan_grade</th>\n",
       "      <th>loan_amnt</th>\n",
       "      <th>loan_int_rate</th>\n",
       "      <th>loan_status</th>\n",
       "      <th>loan_percent_income</th>\n",
       "      <th>cb_person_default_on_file</th>\n",
       "      <th>cb_person_cred_hist_length</th>\n",
       "    </tr>\n",
       "  </thead>\n",
       "  <tbody>\n",
       "    <tr>\n",
       "      <th>0</th>\n",
       "      <td>22</td>\n",
       "      <td>59000</td>\n",
       "      <td>RENT</td>\n",
       "      <td>123.0</td>\n",
       "      <td>PERSONAL</td>\n",
       "      <td>D</td>\n",
       "      <td>35000</td>\n",
       "      <td>16.02</td>\n",
       "      <td>1</td>\n",
       "      <td>0.59</td>\n",
       "      <td>Y</td>\n",
       "      <td>3</td>\n",
       "    </tr>\n",
       "    <tr>\n",
       "      <th>1</th>\n",
       "      <td>21</td>\n",
       "      <td>9600</td>\n",
       "      <td>OWN</td>\n",
       "      <td>5.0</td>\n",
       "      <td>EDUCATION</td>\n",
       "      <td>B</td>\n",
       "      <td>1000</td>\n",
       "      <td>11.14</td>\n",
       "      <td>0</td>\n",
       "      <td>0.10</td>\n",
       "      <td>N</td>\n",
       "      <td>2</td>\n",
       "    </tr>\n",
       "    <tr>\n",
       "      <th>2</th>\n",
       "      <td>25</td>\n",
       "      <td>9600</td>\n",
       "      <td>MORTGAGE</td>\n",
       "      <td>1.0</td>\n",
       "      <td>MEDICAL</td>\n",
       "      <td>C</td>\n",
       "      <td>5500</td>\n",
       "      <td>12.87</td>\n",
       "      <td>1</td>\n",
       "      <td>0.57</td>\n",
       "      <td>N</td>\n",
       "      <td>3</td>\n",
       "    </tr>\n",
       "    <tr>\n",
       "      <th>3</th>\n",
       "      <td>23</td>\n",
       "      <td>65500</td>\n",
       "      <td>RENT</td>\n",
       "      <td>4.0</td>\n",
       "      <td>MEDICAL</td>\n",
       "      <td>C</td>\n",
       "      <td>35000</td>\n",
       "      <td>15.23</td>\n",
       "      <td>1</td>\n",
       "      <td>0.53</td>\n",
       "      <td>N</td>\n",
       "      <td>2</td>\n",
       "    </tr>\n",
       "    <tr>\n",
       "      <th>4</th>\n",
       "      <td>24</td>\n",
       "      <td>54400</td>\n",
       "      <td>RENT</td>\n",
       "      <td>8.0</td>\n",
       "      <td>MEDICAL</td>\n",
       "      <td>C</td>\n",
       "      <td>35000</td>\n",
       "      <td>14.27</td>\n",
       "      <td>1</td>\n",
       "      <td>0.55</td>\n",
       "      <td>Y</td>\n",
       "      <td>4</td>\n",
       "    </tr>\n",
       "    <tr>\n",
       "      <th>5</th>\n",
       "      <td>21</td>\n",
       "      <td>9900</td>\n",
       "      <td>OWN</td>\n",
       "      <td>2.0</td>\n",
       "      <td>VENTURE</td>\n",
       "      <td>A</td>\n",
       "      <td>2500</td>\n",
       "      <td>7.14</td>\n",
       "      <td>1</td>\n",
       "      <td>0.25</td>\n",
       "      <td>N</td>\n",
       "      <td>2</td>\n",
       "    </tr>\n",
       "    <tr>\n",
       "      <th>6</th>\n",
       "      <td>26</td>\n",
       "      <td>77100</td>\n",
       "      <td>RENT</td>\n",
       "      <td>8.0</td>\n",
       "      <td>EDUCATION</td>\n",
       "      <td>B</td>\n",
       "      <td>35000</td>\n",
       "      <td>12.42</td>\n",
       "      <td>1</td>\n",
       "      <td>0.45</td>\n",
       "      <td>N</td>\n",
       "      <td>3</td>\n",
       "    </tr>\n",
       "    <tr>\n",
       "      <th>7</th>\n",
       "      <td>24</td>\n",
       "      <td>78956</td>\n",
       "      <td>RENT</td>\n",
       "      <td>5.0</td>\n",
       "      <td>MEDICAL</td>\n",
       "      <td>B</td>\n",
       "      <td>35000</td>\n",
       "      <td>11.11</td>\n",
       "      <td>1</td>\n",
       "      <td>0.44</td>\n",
       "      <td>N</td>\n",
       "      <td>4</td>\n",
       "    </tr>\n",
       "    <tr>\n",
       "      <th>8</th>\n",
       "      <td>24</td>\n",
       "      <td>83000</td>\n",
       "      <td>RENT</td>\n",
       "      <td>8.0</td>\n",
       "      <td>PERSONAL</td>\n",
       "      <td>A</td>\n",
       "      <td>35000</td>\n",
       "      <td>8.90</td>\n",
       "      <td>1</td>\n",
       "      <td>0.42</td>\n",
       "      <td>N</td>\n",
       "      <td>2</td>\n",
       "    </tr>\n",
       "    <tr>\n",
       "      <th>9</th>\n",
       "      <td>21</td>\n",
       "      <td>10000</td>\n",
       "      <td>OWN</td>\n",
       "      <td>6.0</td>\n",
       "      <td>VENTURE</td>\n",
       "      <td>D</td>\n",
       "      <td>1600</td>\n",
       "      <td>14.74</td>\n",
       "      <td>1</td>\n",
       "      <td>0.16</td>\n",
       "      <td>N</td>\n",
       "      <td>3</td>\n",
       "    </tr>\n",
       "  </tbody>\n",
       "</table>\n",
       "</div>"
      ],
      "text/plain": [
       "   person_age  person_income person_home_ownership  person_emp_length  \\\n",
       "0          22          59000                  RENT              123.0   \n",
       "1          21           9600                   OWN                5.0   \n",
       "2          25           9600              MORTGAGE                1.0   \n",
       "3          23          65500                  RENT                4.0   \n",
       "4          24          54400                  RENT                8.0   \n",
       "5          21           9900                   OWN                2.0   \n",
       "6          26          77100                  RENT                8.0   \n",
       "7          24          78956                  RENT                5.0   \n",
       "8          24          83000                  RENT                8.0   \n",
       "9          21          10000                   OWN                6.0   \n",
       "\n",
       "  loan_intent loan_grade  loan_amnt  loan_int_rate  loan_status  \\\n",
       "0    PERSONAL          D      35000          16.02            1   \n",
       "1   EDUCATION          B       1000          11.14            0   \n",
       "2     MEDICAL          C       5500          12.87            1   \n",
       "3     MEDICAL          C      35000          15.23            1   \n",
       "4     MEDICAL          C      35000          14.27            1   \n",
       "5     VENTURE          A       2500           7.14            1   \n",
       "6   EDUCATION          B      35000          12.42            1   \n",
       "7     MEDICAL          B      35000          11.11            1   \n",
       "8    PERSONAL          A      35000           8.90            1   \n",
       "9     VENTURE          D       1600          14.74            1   \n",
       "\n",
       "   loan_percent_income cb_person_default_on_file  cb_person_cred_hist_length  \n",
       "0                 0.59                         Y                           3  \n",
       "1                 0.10                         N                           2  \n",
       "2                 0.57                         N                           3  \n",
       "3                 0.53                         N                           2  \n",
       "4                 0.55                         Y                           4  \n",
       "5                 0.25                         N                           2  \n",
       "6                 0.45                         N                           3  \n",
       "7                 0.44                         N                           4  \n",
       "8                 0.42                         N                           2  \n",
       "9                 0.16                         N                           3  "
      ]
     },
     "execution_count": 3,
     "metadata": {},
     "output_type": "execute_result"
    }
   ],
   "source": [
    "df = pd.read_csv(r'C:\\Users\\pc\\Downloads\\credit_risk_analysis\\credit_risk_dataset.csv')\n",
    "df.head(10)"
   ]
  },
  {
   "cell_type": "code",
   "execution_count": 4,
   "id": "d1fecf7b",
   "metadata": {},
   "outputs": [
    {
     "data": {
      "text/plain": [
       "(32581, 12)"
      ]
     },
     "execution_count": 4,
     "metadata": {},
     "output_type": "execute_result"
    }
   ],
   "source": [
    "df.shape"
   ]
  },
  {
   "cell_type": "code",
   "execution_count": 5,
   "id": "90316054",
   "metadata": {},
   "outputs": [
    {
     "name": "stdout",
     "output_type": "stream",
     "text": [
      "<class 'pandas.core.frame.DataFrame'>\n",
      "RangeIndex: 32581 entries, 0 to 32580\n",
      "Data columns (total 12 columns):\n",
      " #   Column                      Non-Null Count  Dtype  \n",
      "---  ------                      --------------  -----  \n",
      " 0   person_age                  32581 non-null  int64  \n",
      " 1   person_income               32581 non-null  int64  \n",
      " 2   person_home_ownership       32581 non-null  object \n",
      " 3   person_emp_length           31686 non-null  float64\n",
      " 4   loan_intent                 32581 non-null  object \n",
      " 5   loan_grade                  32581 non-null  object \n",
      " 6   loan_amnt                   32581 non-null  int64  \n",
      " 7   loan_int_rate               29465 non-null  float64\n",
      " 8   loan_status                 32581 non-null  int64  \n",
      " 9   loan_percent_income         32581 non-null  float64\n",
      " 10  cb_person_default_on_file   32581 non-null  object \n",
      " 11  cb_person_cred_hist_length  32581 non-null  int64  \n",
      "dtypes: float64(3), int64(5), object(4)\n",
      "memory usage: 3.0+ MB\n"
     ]
    }
   ],
   "source": [
    "df.info()"
   ]
  },
  {
   "cell_type": "code",
   "execution_count": 6,
   "id": "cf684110",
   "metadata": {},
   "outputs": [
    {
     "data": {
      "text/plain": [
       "165"
      ]
     },
     "execution_count": 6,
     "metadata": {},
     "output_type": "execute_result"
    }
   ],
   "source": [
    "df.duplicated().sum()"
   ]
  },
  {
   "cell_type": "code",
   "execution_count": 7,
   "id": "943da472",
   "metadata": {},
   "outputs": [],
   "source": [
    "#Removing Dulplicated rows from the dataset"
   ]
  },
  {
   "cell_type": "code",
   "execution_count": 8,
   "id": "ef5d92f5",
   "metadata": {},
   "outputs": [],
   "source": [
    "df_redup = df.drop_duplicates()"
   ]
  },
  {
   "cell_type": "code",
   "execution_count": 9,
   "id": "c5f0704e",
   "metadata": {},
   "outputs": [
    {
     "data": {
      "text/plain": [
       "(32416, 12)"
      ]
     },
     "execution_count": 9,
     "metadata": {},
     "output_type": "execute_result"
    }
   ],
   "source": [
    "df_redup.shape"
   ]
  },
  {
   "cell_type": "code",
   "execution_count": 10,
   "id": "0d200f39",
   "metadata": {},
   "outputs": [],
   "source": [
    "# Evaluate Missing Values"
   ]
  },
  {
   "cell_type": "code",
   "execution_count": 11,
   "id": "b34120bd",
   "metadata": {},
   "outputs": [],
   "source": [
    "def findmiss_in_percent(data):\n",
    "    return round(data.isnull().sum()/data.shape[0] *100,2)"
   ]
  },
  {
   "cell_type": "code",
   "execution_count": 12,
   "id": "79a7b407",
   "metadata": {},
   "outputs": [
    {
     "data": {
      "text/plain": [
       "person_age                    0.00\n",
       "person_income                 0.00\n",
       "person_home_ownership         0.00\n",
       "person_emp_length             2.74\n",
       "loan_intent                   0.00\n",
       "loan_grade                    0.00\n",
       "loan_amnt                     0.00\n",
       "loan_int_rate                 9.55\n",
       "loan_status                   0.00\n",
       "loan_percent_income           0.00\n",
       "cb_person_default_on_file     0.00\n",
       "cb_person_cred_hist_length    0.00\n",
       "dtype: float64"
      ]
     },
     "execution_count": 12,
     "metadata": {},
     "output_type": "execute_result"
    }
   ],
   "source": [
    "findmiss_in_percent(df_redup)"
   ]
  },
  {
   "cell_type": "code",
   "execution_count": 13,
   "id": "96fc604f",
   "metadata": {},
   "outputs": [],
   "source": [
    "# person_emp_length has 2.74% values missing and\n",
    "#loan_int_rate has 9.55% values missing"
   ]
  },
  {
   "cell_type": "code",
   "execution_count": 14,
   "id": "d1eef82f",
   "metadata": {},
   "outputs": [],
   "source": [
    "#target value evaluation"
   ]
  },
  {
   "cell_type": "code",
   "execution_count": 15,
   "id": "71e23257",
   "metadata": {},
   "outputs": [
    {
     "data": {
      "text/plain": [
       "0    25327\n",
       "1     7089\n",
       "Name: loan_status, dtype: int64"
      ]
     },
     "execution_count": 15,
     "metadata": {},
     "output_type": "execute_result"
    }
   ],
   "source": [
    "df_redup['loan_status'].value_counts()"
   ]
  },
  {
   "cell_type": "code",
   "execution_count": 16,
   "id": "a6a51796",
   "metadata": {},
   "outputs": [],
   "source": [
    "# Evaluate each of the features that have missing values taking into cosideration effect on the target feature\n",
    "# 25327 did not default and 7089 defaulted, hence dropping rows from the dataset will have an impact on the imbalanced target variable"
   ]
  },
  {
   "cell_type": "code",
   "execution_count": 17,
   "id": "10aa28ad",
   "metadata": {},
   "outputs": [],
   "source": [
    "def default_in_nan(data,featr,target):\n",
    "    return data[data[featr].isnull()].groupby([target]).size()"
   ]
  },
  {
   "cell_type": "code",
   "execution_count": 18,
   "id": "048fb01b",
   "metadata": {},
   "outputs": [
    {
     "data": {
      "text/plain": [
       "loan_status\n",
       "0    606\n",
       "1    281\n",
       "dtype: int64"
      ]
     },
     "execution_count": 18,
     "metadata": {},
     "output_type": "execute_result"
    }
   ],
   "source": [
    "features = ['person_emp_length','loan_int_rate']\n",
    "default_in_nan(df_redup,features[0],'loan_status')"
   ]
  },
  {
   "cell_type": "code",
   "execution_count": 19,
   "id": "63f9eb3e",
   "metadata": {},
   "outputs": [
    {
     "data": {
      "text/plain": [
       "loan_status\n",
       "0    2454\n",
       "1     641\n",
       "dtype: int64"
      ]
     },
     "execution_count": 19,
     "metadata": {},
     "output_type": "execute_result"
    }
   ],
   "source": [
    "default_in_nan(df_redup,features[1],'loan_status')"
   ]
  },
  {
   "cell_type": "code",
   "execution_count": 20,
   "id": "7e1c654e",
   "metadata": {},
   "outputs": [],
   "source": [
    "# 281 of the 7089 defaulters have missing value for person_emp_length. \n",
    "# This means it would have an impact dropping the rows with NAN hence we can opt to fillna"
   ]
  },
  {
   "cell_type": "code",
   "execution_count": 21,
   "id": "8710b9dc",
   "metadata": {},
   "outputs": [],
   "source": [
    "# 641 of the 7089 defaulters have missing value for loan_int_rate. \n",
    "# This means it would have an impact dropping the rows with NAN hence we can opt to fillna"
   ]
  },
  {
   "cell_type": "code",
   "execution_count": 22,
   "id": "80101531",
   "metadata": {},
   "outputs": [
    {
     "name": "stderr",
     "output_type": "stream",
     "text": [
      "C:\\Users\\pc\\AppData\\Local\\Temp\\ipykernel_18712\\668970249.py:1: SettingWithCopyWarning: \n",
      "A value is trying to be set on a copy of a slice from a DataFrame.\n",
      "Try using .loc[row_indexer,col_indexer] = value instead\n",
      "\n",
      "See the caveats in the documentation: https://pandas.pydata.org/pandas-docs/stable/user_guide/indexing.html#returning-a-view-versus-a-copy\n",
      "  df_redup.fillna(df_redup.mean(),inplace=True)\n"
     ]
    }
   ],
   "source": [
    "df_redup.fillna(df_redup.mean(),inplace=True)"
   ]
  },
  {
   "cell_type": "code",
   "execution_count": 23,
   "id": "0d4cfcdf",
   "metadata": {},
   "outputs": [
    {
     "data": {
      "text/plain": [
       "person_age                    0\n",
       "person_income                 0\n",
       "person_home_ownership         0\n",
       "person_emp_length             0\n",
       "loan_intent                   0\n",
       "loan_grade                    0\n",
       "loan_amnt                     0\n",
       "loan_int_rate                 0\n",
       "loan_status                   0\n",
       "loan_percent_income           0\n",
       "cb_person_default_on_file     0\n",
       "cb_person_cred_hist_length    0\n",
       "dtype: int64"
      ]
     },
     "execution_count": 23,
     "metadata": {},
     "output_type": "execute_result"
    }
   ],
   "source": [
    "df_redup.isnull().sum()"
   ]
  },
  {
   "cell_type": "code",
   "execution_count": 24,
   "id": "cb0c394a",
   "metadata": {},
   "outputs": [
    {
     "data": {
      "text/plain": [
       "(32416, 12)"
      ]
     },
     "execution_count": 24,
     "metadata": {},
     "output_type": "execute_result"
    }
   ],
   "source": [
    "df_redup.shape"
   ]
  },
  {
   "cell_type": "code",
   "execution_count": 25,
   "id": "3526684d",
   "metadata": {},
   "outputs": [],
   "source": [
    "#Exploratory Data Analysis"
   ]
  },
  {
   "cell_type": "code",
   "execution_count": 26,
   "id": "bae9a7dc",
   "metadata": {},
   "outputs": [
    {
     "data": {
      "text/plain": [
       "Index(['person_age', 'person_income', 'person_home_ownership',\n",
       "       'person_emp_length', 'loan_intent', 'loan_grade', 'loan_amnt',\n",
       "       'loan_int_rate', 'loan_status', 'loan_percent_income',\n",
       "       'cb_person_default_on_file', 'cb_person_cred_hist_length'],\n",
       "      dtype='object')"
      ]
     },
     "execution_count": 26,
     "metadata": {},
     "output_type": "execute_result"
    }
   ],
   "source": [
    "df_redup.columns"
   ]
  },
  {
   "cell_type": "code",
   "execution_count": 27,
   "id": "5fe8cb9c",
   "metadata": {},
   "outputs": [
    {
     "data": {
      "image/png": "[encoded data removed]",
      "text/plain": [
       "<Figure size 1152x1440 with 10 Axes>"
      ]
     },
     "metadata": {
      "needs_background": "light"
     },
     "output_type": "display_data"
    }
   ],
   "source": [
    "fig, axs = plt.subplots(5,2, figsize=(16,20))\n",
    "# fig, axs = plt.subplots(5,2, figsize=(16,20))\n",
    "# --General title--\n",
    "fig.tight_layout()\n",
    "fig.subplots_adjust(top=0.95)\n",
    "fig.suptitle('Continuous columns Barplots', fontweight='bold', fontfamily='sans-serif');\n",
    "\n",
    "crostab = pd.crosstab(df_redup['person_home_ownership'],df_redup.loan_status);\n",
    "crostab.plot(kind='bar',ax=axs[0,0]);\n",
    "sns.boxplot(df_redup.loan_status,df_redup.person_age,ax=axs[0,1]);\n",
    "sns.kdeplot(df_redup.person_income,hue = df_redup.loan_status, ax=axs[1,0]);\n",
    "sns.boxplot(df_redup.loan_status,df_redup.person_emp_length,ax=axs[1,1]);\n",
    "crostab = pd.crosstab(df_redup['loan_intent'],df_redup.loan_status);\n",
    "crostab.plot(kind='bar',ax=axs[2,0]);\n",
    "sns.kdeplot(df_redup.loan_amnt,hue = df_redup.loan_status, ax=axs[2,1]);\n",
    "sns.kdeplot(df_redup.loan_int_rate, hue = df_redup.loan_status,ax=axs[3,0]);\n",
    "sns.kdeplot(df_redup.loan_percent_income,hue=df_redup.loan_status,ax=axs[3,1]);\n",
    "crostab = pd.crosstab(df_redup['cb_person_default_on_file'],df_redup.loan_status);\n",
    "crostab.plot(kind='bar',ax=axs[4,0]);\n",
    "sns.boxplot(df_redup.loan_status,df_redup.cb_person_cred_hist_length,ax=axs[4,1]);"
   ]
  },
  {
   "cell_type": "code",
   "execution_count": 28,
   "id": "c514a37c",
   "metadata": {},
   "outputs": [
    {
     "name": "stderr",
     "output_type": "stream",
     "text": [
      "C:\\Users\\pc\\AppData\\Local\\Temp\\ipykernel_18712\\967217730.py:5: SettingWithCopyWarning: \n",
      "A value is trying to be set on a copy of a slice from a DataFrame.\n",
      "Try using .loc[row_indexer,col_indexer] = value instead\n",
      "\n",
      "See the caveats in the documentation: https://pandas.pydata.org/pandas-docs/stable/user_guide/indexing.html#returning-a-view-versus-a-copy\n",
      "  df_redup.loc[:,'person_age'] = sc.fit_transform(np.array(df_redup.loc[:,'person_age']).reshape(-1,1))\n",
      "C:\\Users\\pc\\AppData\\Local\\Temp\\ipykernel_18712\\967217730.py:6: SettingWithCopyWarning: \n",
      "A value is trying to be set on a copy of a slice from a DataFrame.\n",
      "Try using .loc[row_indexer,col_indexer] = value instead\n",
      "\n",
      "See the caveats in the documentation: https://pandas.pydata.org/pandas-docs/stable/user_guide/indexing.html#returning-a-view-versus-a-copy\n",
      "  df_redup.loc[:,'person_income'] = sc.fit_transform(np.array(df_redup.person_income).reshape(-1,1))\n",
      "C:\\Users\\pc\\AppData\\Local\\Temp\\ipykernel_18712\\967217730.py:7: SettingWithCopyWarning: \n",
      "A value is trying to be set on a copy of a slice from a DataFrame.\n",
      "Try using .loc[row_indexer,col_indexer] = value instead\n",
      "\n",
      "See the caveats in the documentation: https://pandas.pydata.org/pandas-docs/stable/user_guide/indexing.html#returning-a-view-versus-a-copy\n",
      "  df_redup.loc[:,'person_emp_length'] = sc.fit_transform(np.array(df_redup.person_emp_length).reshape(-1,1))\n",
      "C:\\Users\\pc\\AppData\\Local\\Temp\\ipykernel_18712\\967217730.py:8: SettingWithCopyWarning: \n",
      "A value is trying to be set on a copy of a slice from a DataFrame.\n",
      "Try using .loc[row_indexer,col_indexer] = value instead\n",
      "\n",
      "See the caveats in the documentation: https://pandas.pydata.org/pandas-docs/stable/user_guide/indexing.html#returning-a-view-versus-a-copy\n",
      "  df_redup.loc[:,'loan_amnt'] = sc.fit_transform(np.array(df_redup.loan_amnt).reshape(-1,1))\n",
      "C:\\Users\\pc\\AppData\\Local\\Temp\\ipykernel_18712\\967217730.py:9: SettingWithCopyWarning: \n",
      "A value is trying to be set on a copy of a slice from a DataFrame.\n",
      "Try using .loc[row_indexer,col_indexer] = value instead\n",
      "\n",
      "See the caveats in the documentation: https://pandas.pydata.org/pandas-docs/stable/user_guide/indexing.html#returning-a-view-versus-a-copy\n",
      "  df_redup.loc[:,'loan_int_rate'] = sc.fit_transform(np.array(df_redup.loan_int_rate).reshape(-1,1))\n",
      "C:\\Users\\pc\\AppData\\Local\\Temp\\ipykernel_18712\\967217730.py:10: SettingWithCopyWarning: \n",
      "A value is trying to be set on a copy of a slice from a DataFrame.\n",
      "Try using .loc[row_indexer,col_indexer] = value instead\n",
      "\n",
      "See the caveats in the documentation: https://pandas.pydata.org/pandas-docs/stable/user_guide/indexing.html#returning-a-view-versus-a-copy\n",
      "  df_redup.loc[:,'loan_percent_income'] = sc.fit_transform(np.array(df_redup.loan_percent_income).reshape(-1,1))\n",
      "C:\\Users\\pc\\AppData\\Local\\Temp\\ipykernel_18712\\967217730.py:11: SettingWithCopyWarning: \n",
      "A value is trying to be set on a copy of a slice from a DataFrame.\n",
      "Try using .loc[row_indexer,col_indexer] = value instead\n",
      "\n",
      "See the caveats in the documentation: https://pandas.pydata.org/pandas-docs/stable/user_guide/indexing.html#returning-a-view-versus-a-copy\n",
      "  df_redup.loc[:,'cb_person_cred_hist_length'] = sc.fit_transform(np.array(df_redup.cb_person_cred_hist_length).reshape(-1,1))\n",
      "C:\\Users\\pc\\anaconda3\\lib\\site-packages\\sklearn\\preprocessing\\_label.py:115: DataConversionWarning: A column-vector y was passed when a 1d array was expected. Please change the shape of y to (n_samples, ), for example using ravel().\n",
      "  y = column_or_1d(y, warn=True)\n",
      "C:\\Users\\pc\\AppData\\Local\\Temp\\ipykernel_18712\\967217730.py:13: SettingWithCopyWarning: \n",
      "A value is trying to be set on a copy of a slice from a DataFrame.\n",
      "Try using .loc[row_indexer,col_indexer] = value instead\n",
      "\n",
      "See the caveats in the documentation: https://pandas.pydata.org/pandas-docs/stable/user_guide/indexing.html#returning-a-view-versus-a-copy\n",
      "  df_redup.loc[:,'loan_intent'] = le.fit_transform(np.array(df_redup.loan_intent).reshape(-1,1))\n",
      "C:\\Users\\pc\\AppData\\Local\\Temp\\ipykernel_18712\\967217730.py:14: SettingWithCopyWarning: \n",
      "A value is trying to be set on a copy of a slice from a DataFrame.\n",
      "Try using .loc[row_indexer,col_indexer] = value instead\n",
      "\n",
      "See the caveats in the documentation: https://pandas.pydata.org/pandas-docs/stable/user_guide/indexing.html#returning-a-view-versus-a-copy\n",
      "  df_redup.loc[:,'loan_grade'] = le.fit_transform(np.array(df_redup.loan_grade).reshape(-1,1))\n",
      "C:\\Users\\pc\\AppData\\Local\\Temp\\ipykernel_18712\\967217730.py:15: SettingWithCopyWarning: \n",
      "A value is trying to be set on a copy of a slice from a DataFrame.\n",
      "Try using .loc[row_indexer,col_indexer] = value instead\n",
      "\n",
      "See the caveats in the documentation: https://pandas.pydata.org/pandas-docs/stable/user_guide/indexing.html#returning-a-view-versus-a-copy\n",
      "  df_redup.loc[:,'person_home_ownership'] = le.fit_transform(np.array(df_redup.person_home_ownership).reshape(-1,1))\n",
      "C:\\Users\\pc\\AppData\\Local\\Temp\\ipykernel_18712\\967217730.py:16: SettingWithCopyWarning: \n",
      "A value is trying to be set on a copy of a slice from a DataFrame.\n",
      "Try using .loc[row_indexer,col_indexer] = value instead\n",
      "\n",
      "See the caveats in the documentation: https://pandas.pydata.org/pandas-docs/stable/user_guide/indexing.html#returning-a-view-versus-a-copy\n",
      "  df_redup.loc[:,'cb_person_default_on_file'] = le.fit_transform(np.array(df_redup.cb_person_default_on_file).reshape(-1,1))\n"
     ]
    },
    {
     "data": {
      "text/html": [
       "<div>\n",
       "<style scoped>\n",
       "    .dataframe tbody tr th:only-of-type {\n",
       "        vertical-align: middle;\n",
       "    }\n",
       "\n",
       "    .dataframe tbody tr th {\n",
       "        vertical-align: top;\n",
       "    }\n",
       "\n",
       "    .dataframe thead th {\n",
       "        text-align: right;\n",
       "    }\n",
       "</style>\n",
       "<table border=\"1\" class=\"dataframe\">\n",
       "  <thead>\n",
       "    <tr style=\"text-align: right;\">\n",
       "      <th></th>\n",
       "      <th>person_age</th>\n",
       "      <th>person_income</th>\n",
       "      <th>person_home_ownership</th>\n",
       "      <th>person_emp_length</th>\n",
       "      <th>loan_intent</th>\n",
       "      <th>loan_grade</th>\n",
       "      <th>loan_amnt</th>\n",
       "      <th>loan_int_rate</th>\n",
       "      <th>loan_status</th>\n",
       "      <th>loan_percent_income</th>\n",
       "      <th>cb_person_default_on_file</th>\n",
       "      <th>cb_person_cred_hist_length</th>\n",
       "    </tr>\n",
       "  </thead>\n",
       "  <tbody>\n",
       "    <tr>\n",
       "      <th>0</th>\n",
       "      <td>-0.904471</td>\n",
       "      <td>-0.114354</td>\n",
       "      <td>3</td>\n",
       "      <td>28.913989</td>\n",
       "      <td>4</td>\n",
       "      <td>3</td>\n",
       "      <td>4.018287</td>\n",
       "      <td>1.622688</td>\n",
       "      <td>1</td>\n",
       "      <td>3.929865</td>\n",
       "      <td>1</td>\n",
       "      <td>-0.692614</td>\n",
       "    </tr>\n",
       "    <tr>\n",
       "      <th>1</th>\n",
       "      <td>-1.061852</td>\n",
       "      <td>-0.910941</td>\n",
       "      <td>2</td>\n",
       "      <td>0.051241</td>\n",
       "      <td>1</td>\n",
       "      <td>1</td>\n",
       "      <td>-1.359219</td>\n",
       "      <td>0.039810</td>\n",
       "      <td>0</td>\n",
       "      <td>-0.657707</td>\n",
       "      <td>0</td>\n",
       "      <td>-0.938982</td>\n",
       "    </tr>\n",
       "    <tr>\n",
       "      <th>2</th>\n",
       "      <td>-0.432327</td>\n",
       "      <td>-0.910941</td>\n",
       "      <td>0</td>\n",
       "      <td>-0.927157</td>\n",
       "      <td>3</td>\n",
       "      <td>2</td>\n",
       "      <td>-0.647491</td>\n",
       "      <td>0.600953</td>\n",
       "      <td>1</td>\n",
       "      <td>3.742617</td>\n",
       "      <td>0</td>\n",
       "      <td>-0.692614</td>\n",
       "    </tr>\n",
       "    <tr>\n",
       "      <th>3</th>\n",
       "      <td>-0.747089</td>\n",
       "      <td>-0.009540</td>\n",
       "      <td>3</td>\n",
       "      <td>-0.193358</td>\n",
       "      <td>3</td>\n",
       "      <td>2</td>\n",
       "      <td>4.018287</td>\n",
       "      <td>1.366443</td>\n",
       "      <td>1</td>\n",
       "      <td>3.368121</td>\n",
       "      <td>0</td>\n",
       "      <td>-0.938982</td>\n",
       "    </tr>\n",
       "    <tr>\n",
       "      <th>4</th>\n",
       "      <td>-0.589708</td>\n",
       "      <td>-0.188530</td>\n",
       "      <td>3</td>\n",
       "      <td>0.785040</td>\n",
       "      <td>3</td>\n",
       "      <td>2</td>\n",
       "      <td>4.018287</td>\n",
       "      <td>1.055058</td>\n",
       "      <td>1</td>\n",
       "      <td>3.555369</td>\n",
       "      <td>1</td>\n",
       "      <td>-0.446246</td>\n",
       "    </tr>\n",
       "  </tbody>\n",
       "</table>\n",
       "</div>"
      ],
      "text/plain": [
       "   person_age  person_income  person_home_ownership  person_emp_length  \\\n",
       "0   -0.904471      -0.114354                      3          28.913989   \n",
       "1   -1.061852      -0.910941                      2           0.051241   \n",
       "2   -0.432327      -0.910941                      0          -0.927157   \n",
       "3   -0.747089      -0.009540                      3          -0.193358   \n",
       "4   -0.589708      -0.188530                      3           0.785040   \n",
       "\n",
       "   loan_intent  loan_grade  loan_amnt  loan_int_rate  loan_status  \\\n",
       "0            4           3   4.018287       1.622688            1   \n",
       "1            1           1  -1.359219       0.039810            0   \n",
       "2            3           2  -0.647491       0.600953            1   \n",
       "3            3           2   4.018287       1.366443            1   \n",
       "4            3           2   4.018287       1.055058            1   \n",
       "\n",
       "   loan_percent_income  cb_person_default_on_file  cb_person_cred_hist_length  \n",
       "0             3.929865                          1                   -0.692614  \n",
       "1            -0.657707                          0                   -0.938982  \n",
       "2             3.742617                          0                   -0.692614  \n",
       "3             3.368121                          0                   -0.938982  \n",
       "4             3.555369                          1                   -0.446246  "
      ]
     },
     "execution_count": 28,
     "metadata": {},
     "output_type": "execute_result"
    }
   ],
   "source": [
    "from sklearn.preprocessing import StandardScaler, LabelEncoder\n",
    "sc = StandardScaler()\n",
    "le = LabelEncoder()\n",
    "\n",
    "df_redup.loc[:,'person_age'] = sc.fit_transform(np.array(df_redup.loc[:,'person_age']).reshape(-1,1))\n",
    "df_redup.loc[:,'person_income'] = sc.fit_transform(np.array(df_redup.person_income).reshape(-1,1))\n",
    "df_redup.loc[:,'person_emp_length'] = sc.fit_transform(np.array(df_redup.person_emp_length).reshape(-1,1))\n",
    "df_redup.loc[:,'loan_amnt'] = sc.fit_transform(np.array(df_redup.loan_amnt).reshape(-1,1))\n",
    "df_redup.loc[:,'loan_int_rate'] = sc.fit_transform(np.array(df_redup.loan_int_rate).reshape(-1,1))\n",
    "df_redup.loc[:,'loan_percent_income'] = sc.fit_transform(np.array(df_redup.loan_percent_income).reshape(-1,1))\n",
    "df_redup.loc[:,'cb_person_cred_hist_length'] = sc.fit_transform(np.array(df_redup.cb_person_cred_hist_length).reshape(-1,1))\n",
    "\n",
    "df_redup.loc[:,'loan_intent'] = le.fit_transform(np.array(df_redup.loan_intent).reshape(-1,1))\n",
    "df_redup.loc[:,'loan_grade'] = le.fit_transform(np.array(df_redup.loan_grade).reshape(-1,1))\n",
    "df_redup.loc[:,'person_home_ownership'] = le.fit_transform(np.array(df_redup.person_home_ownership).reshape(-1,1))\n",
    "df_redup.loc[:,'cb_person_default_on_file'] = le.fit_transform(np.array(df_redup.cb_person_default_on_file).reshape(-1,1))\n",
    "\n",
    "df_redup.head()"
   ]
  },
  {
   "cell_type": "code",
   "execution_count": 29,
   "id": "424b5c96",
   "metadata": {},
   "outputs": [],
   "source": [
    "x = df_redup.drop('loan_status', axis = 1)\n",
    "y = df_redup.loan_status"
   ]
  },
  {
   "cell_type": "code",
   "execution_count": 30,
   "id": "4ddd6348",
   "metadata": {},
   "outputs": [],
   "source": [
    "from sklearn.metrics import *\n",
    "from sklearn.model_selection import train_test_split\n",
    "X_train,X_test,y_train,y_test = train_test_split(x,y, train_size =0.75)"
   ]
  },
  {
   "cell_type": "code",
   "execution_count": 31,
   "id": "bdb2f7bc",
   "metadata": {},
   "outputs": [
    {
     "data": {
      "text/plain": [
       "RandomForestClassifier()"
      ]
     },
     "execution_count": 31,
     "metadata": {},
     "output_type": "execute_result"
    }
   ],
   "source": [
    "from sklearn.ensemble import RandomForestClassifier\n",
    "model = RandomForestClassifier()\n",
    "model.fit(X_train,y_train)"
   ]
  },
  {
   "cell_type": "code",
   "execution_count": 32,
   "id": "8fc2f5df",
   "metadata": {},
   "outputs": [
    {
     "name": "stdout",
     "output_type": "stream",
     "text": [
      "Accuracy of the train dataset: 0.9999588680487003\n",
      "Accuracy of the test dataset: 0.9320088845014808\n"
     ]
    }
   ],
   "source": [
    "print('Accuracy of the train dataset:',accuracy_score(model.predict(X_train),y_train))\n",
    "print('Accuracy of the test dataset:',accuracy_score(model.predict(X_test),y_test))"
   ]
  },
  {
   "cell_type": "code",
   "execution_count": 33,
   "id": "8d02034f",
   "metadata": {},
   "outputs": [
    {
     "name": "stdout",
     "output_type": "stream",
     "text": [
      "              precision    recall  f1-score   support\n",
      "\n",
      "           0       0.99      0.93      0.96      6824\n",
      "           1       0.71      0.96      0.82      1280\n",
      "\n",
      "    accuracy                           0.93      8104\n",
      "   macro avg       0.85      0.94      0.89      8104\n",
      "weighted avg       0.95      0.93      0.94      8104\n",
      "\n"
     ]
    }
   ],
   "source": [
    "print(classification_report(model.predict(X_test),y_test))"
   ]
  },
  {
   "cell_type": "code",
   "execution_count": 34,
   "id": "5df7dd06",
   "metadata": {},
   "outputs": [],
   "source": [
    "# Saving Machine learning model using joblib"
   ]
  },
  {
   "cell_type": "code",
   "execution_count": 35,
   "id": "983f6e97",
   "metadata": {},
   "outputs": [],
   "source": [
    "import joblib\n",
    "filename = 'C:/Users/pc/dev/mlops/env/credit_risk_analysis_model.sav'\n",
    "gnb = joblib.dump(model,filename)"
   ]
  }
 ],
 "metadata": {
  "kernelspec": {
   "display_name": "Python 3 (ipykernel)",
   "language": "python",
   "name": "python3"
  },
  "language_info": {
   "codemirror_mode": {
    "name": "ipython",
    "version": 3
   },
   "file_extension": ".py",
   "mimetype": "text/x-python",
   "name": "python",
   "nbconvert_exporter": "python",
   "pygments_lexer": "ipython3",
   "version": "3.9.12"
  }
 },
 "nbformat": 4,
 "nbformat_minor": 5
}
